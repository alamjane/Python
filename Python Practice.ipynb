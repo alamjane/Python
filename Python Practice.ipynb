{
 "cells": [
  {
   "cell_type": "code",
   "execution_count": 9,
   "metadata": {},
   "outputs": [
    {
     "name": "stdout",
     "output_type": "stream",
     "text": [
      "enter a number: 5\n",
      "result: 540\n"
     ]
    }
   ],
   "source": [
    "n = int(input(\"enter a number: \"))\n",
    "print(f\"result: {int(n)*3 + int(n * n) + int(n * n * n)*4}\")"
   ]
  },
  {
   "cell_type": "code",
   "execution_count": 8,
   "metadata": {},
   "outputs": [
    {
     "name": "stdout",
     "output_type": "stream",
     "text": [
      "Twinkle, twinkle, little, star \n",
      "\tHow I wonder what you are!\n",
      "\t\tUp above the world so high,\n",
      "\t\tLike a diamond in the sky,\n",
      "Twinkle twinkle, little stars\n",
      "\t\"How I wonder what you are\"\n"
     ]
    }
   ],
   "source": [
    "print('Twinkle, twinkle, little, star \\n\\tHow I wonder what you are!\\n\\t\\tUp above the world so high,\\n\\t\\tLike a diamond in the sky,\\nTwinkle twinkle, little stars\\n\\t\"How I wonder what you are\"')"
   ]
  },
  {
   "cell_type": "code",
   "execution_count": 1,
   "metadata": {},
   "outputs": [
    {
     "name": "stdout",
     "output_type": "stream",
     "text": [
      "Enter star5\n",
      "* \n",
      "\n",
      "* * \n",
      "\n",
      "* * * \n",
      "\n",
      "* * * * \n",
      "\n",
      "* * * * * \n",
      "\n",
      "* * * * \n",
      "\n",
      "* * * \n",
      "\n",
      "* * \n",
      "\n",
      "* \n",
      "\n",
      "\n",
      "\n"
     ]
    }
   ],
   "source": [
    "rows = int(input(\"Enter star\"))\n",
    "\n",
    "for i in range (0, rows):\n",
    "    for j in range(0, i + 1):\n",
    "        print(\"*\", end=' ')\n",
    "    print(\"\\n\")\n",
    "for i in range (rows, 0, -1):\n",
    "    for j in range(0, i-1):\n",
    "        print(\"*\", end=' ')\n",
    "    print(\"\\n\")"
   ]
  },
  {
   "cell_type": "code",
   "execution_count": 2,
   "metadata": {},
   "outputs": [
    {
     "name": "stdout",
     "output_type": "stream",
     "text": [
      "enter number of rows7\n",
      "@\n",
      "@@\n",
      "@@@\n",
      "@@@@\n",
      "@@@@@\n",
      "@@@@@@\n",
      "@@@@@@@\n"
     ]
    }
   ],
   "source": [
    "num = int(input('enter number of rows'))\n",
    "for i in range (0, num):\n",
    "    for j in range(0, i + 1):\n",
    "        print('@',end = '')\n",
    "    print('')\n",
    "        "
   ]
  },
  {
   "cell_type": "code",
   "execution_count": 3,
   "metadata": {},
   "outputs": [
    {
     "name": "stdout",
     "output_type": "stream",
     "text": [
      "enter your nameJane\n",
      "DOB month October\n",
      "enter your age27\n",
      "Your password will be \"JaOct27\" ......Thank You\n"
     ]
    }
   ],
   "source": [
    "n = input('enter your name')\n",
    "m = input('DOB month ')\n",
    "age = int(input('enter your age'))\n",
    "\n",
    "print('Your password will be \"JaOct27\" ......Thank You')"
   ]
  },
  {
   "cell_type": "code",
   "execution_count": 4,
   "metadata": {},
   "outputs": [
    {
     "name": "stdout",
     "output_type": "stream",
     "text": [
      "enter your percentage 91\n",
      "Congrats you can get Admission in IIT with scholarship\n"
     ]
    }
   ],
   "source": [
    "Percentage = int(input('enter your percentage '))\n",
    "\n",
    "if Percentage>90:\n",
    "    print('Congrats you can get Admission in IIT with scholarship')\n",
    "elif Percentage>80:\n",
    "    print('You can get Admission in IIT but without scholarship')\n",
    "elif Percentage>60:\n",
    "    print('You can get Admission in DU, but not in IIT')\n",
    "elif Percentage>40:\n",
    "    print('You can get Admission in LPU, but not in IIT')\n",
    "elif Percentage<40:\n",
    "    print('Sorry, you cannot get Admission in any college')"
   ]
  },
  {
   "cell_type": "code",
   "execution_count": 5,
   "metadata": {},
   "outputs": [
    {
     "name": "stdout",
     "output_type": "stream",
     "text": [
      "enter your namejane alam\n",
      "mala enaj\n"
     ]
    }
   ],
   "source": [
    "n = input('enter your name')\n",
    "print(n[: : -1])"
   ]
  },
  {
   "cell_type": "code",
   "execution_count": 6,
   "metadata": {},
   "outputs": [
    {
     "name": "stdout",
     "output_type": "stream",
     "text": [
      "What is your name: jane alam\n",
      "How old are you: 27\n",
      "jane alam will be 100 years old in the year 2092\n"
     ]
    }
   ],
   "source": [
    "name = input(\"What is your name: \")\n",
    "age = int(input(\"How old are you: \"))\n",
    "year = str((2019 - age)+100)\n",
    "print(name + \" will be 100 years old in the year \" + year)"
   ]
  },
  {
   "cell_type": "code",
   "execution_count": 7,
   "metadata": {},
   "outputs": [
    {
     "name": "stdout",
     "output_type": "stream",
     "text": [
      "enter the number of elements3\n",
      "enter the number12\n",
      "enter the number14\n",
      "enter the number16\n",
      "Average in the list is =  14\n"
     ]
    }
   ],
   "source": [
    "n = int(input('enter the number of elements'))\n",
    "\n",
    "a = []\n",
    "\n",
    "for i in range(0,n):\n",
    "    elem = int(input('enter the number'))\n",
    "    a.append(elem)\n",
    "    \n",
    "avg = int(sum(a)/n)\n",
    "\n",
    "print('Average in the list is = ', avg)"
   ]
  },
  {
   "cell_type": "code",
   "execution_count": 1,
   "metadata": {},
   "outputs": [
    {
     "name": "stdout",
     "output_type": "stream",
     "text": [
      "\n",
      "1\n",
      "22\n",
      "333\n",
      "4444\n",
      "55555\n",
      "666666\n",
      "7777777\n",
      "88888888\n",
      "999999999\n"
     ]
    }
   ],
   "source": [
    "for i in range(10):\n",
    "    print(str(i) * i)"
   ]
  },
  {
   "cell_type": "code",
   "execution_count": null,
   "metadata": {},
   "outputs": [],
   "source": []
  }
 ],
 "metadata": {
  "kernelspec": {
   "display_name": "Python 3",
   "language": "python",
   "name": "python3"
  },
  "language_info": {
   "codemirror_mode": {
    "name": "ipython",
    "version": 3
   },
   "file_extension": ".py",
   "mimetype": "text/x-python",
   "name": "python",
   "nbconvert_exporter": "python",
   "pygments_lexer": "ipython3",
   "version": "3.7.3"
  }
 },
 "nbformat": 4,
 "nbformat_minor": 2
}
